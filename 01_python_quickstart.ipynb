{
 "cells": [
  {
   "cell_type": "markdown",
   "metadata": {
    "collapsed": false
   },
   "source": [
    "# Python Quickstart\n",
    "[Numbers](#Numbers) <br>\n",
    "[Strings](#Strings) <br>\n",
    "[Lists](#Lists) <br>\n",
    "[Control Flow](#Control-Flow)<br>\n",
    "[Dictionaries](#Dictionaries) <br>\n",
    "[Sets](#Sets)<br>\n",
    "[Tuples](#Tuples)<br>\n",
    "[List files in a directory](#List-files-in-a-directory)\n",
    "[Random Numbers](#Random-Numbers)<br>\n",
    "[Functions](#Functions)"
   ]
  },
  {
   "cell_type": "markdown",
   "metadata": {},
   "source": [
    "## Numbers"
   ]
  },
  {
   "cell_type": "code",
   "execution_count": 1,
   "metadata": {
    "collapsed": false,
    "scrolled": true
   },
   "outputs": [
    {
     "name": "stdout",
     "output_type": "stream",
     "text": [
      "10 2 12\n",
      "10 + 2 = 12\n"
     ]
    }
   ],
   "source": [
    "x = 10\n",
    "y = 2\n",
    "z = x + y\n",
    "print x, y, z\n",
    "print \"%d + %d = %d\" %(x,y,z)"
   ]
  },
  {
   "cell_type": "code",
   "execution_count": 2,
   "metadata": {
    "collapsed": false
   },
   "outputs": [
    {
     "name": "stdout",
     "output_type": "stream",
     "text": [
      "10.0 3 30.0\n",
      "10.000000 * 3 = 30.000000\n"
     ]
    }
   ],
   "source": [
    "a = 10.0\n",
    "b = 3\n",
    "c = a*b\n",
    "print a, b, c\n",
    "print \"%f * %d = %f\" %(a,b,c)"
   ]
  },
  {
   "cell_type": "code",
   "execution_count": 3,
   "metadata": {
    "collapsed": false
   },
   "outputs": [
    {
     "name": "stdout",
     "output_type": "stream",
     "text": [
      "pi = 3.000000 -> This is not as expected because we used integer values 22 and 7. Use 22.0 and 7.0.\n",
      "pi = 3.142857\n",
      "pi = 3.14\n"
     ]
    }
   ],
   "source": [
    "pi = 22/7\n",
    "print \"pi = %f -> This is not as expected because we used \\\n",
    "integer values 22 and 7. Use 22.0 and 7.0.\" %pi\n",
    "pi = 22.0/7.0\n",
    "print \"pi = %f\" %pi\n",
    "print \"pi = %.2f\" %pi"
   ]
  },
  {
   "cell_type": "code",
   "execution_count": 4,
   "metadata": {
    "collapsed": false
   },
   "outputs": [
    {
     "name": "stdout",
     "output_type": "stream",
     "text": [
      "3 3.0\n"
     ]
    }
   ],
   "source": [
    "#typecasting\n",
    "d = float(b) \n",
    "print b, d"
   ]
  },
  {
   "cell_type": "code",
   "execution_count": 5,
   "metadata": {
    "collapsed": false
   },
   "outputs": [
    {
     "name": "stdout",
     "output_type": "stream",
     "text": [
      "1.0\n",
      "1000.0\n"
     ]
    }
   ],
   "source": [
    "e = a % b# modulo\n",
    "print e\n",
    "f = a ** b# power\n",
    "print f"
   ]
  },
  {
   "cell_type": "markdown",
   "metadata": {},
   "source": [
    "## Strings"
   ]
  },
  {
   "cell_type": "code",
   "execution_count": 6,
   "metadata": {
    "collapsed": false
   },
   "outputs": [
    {
     "name": "stdout",
     "output_type": "stream",
     "text": [
      "Learning\n",
      "8\n"
     ]
    }
   ],
   "source": [
    "str1 = \"Learning\"\n",
    "print str1\n",
    "len1 = len(str1)\n",
    "print len1"
   ]
  },
  {
   "cell_type": "code",
   "execution_count": 7,
   "metadata": {
    "collapsed": false
   },
   "outputs": [
    {
     "name": "stdout",
     "output_type": "stream",
     "text": [
      "Python!\n",
      "Learning Python!\n",
      "Concatanated string is: Learning Python!\n",
      "Length of string Learning Python! is 16.\n"
     ]
    }
   ],
   "source": [
    "str2 = 'Python!'\n",
    "print str2\n",
    "str3 = str1 + \" \" + str2\n",
    "print str3\n",
    "print \"Concatanated string is: %s\" %str3\n",
    "len3 = len(str3)\n",
    "print \"Length of string %s is %d.\" %(str3, len3)"
   ]
  },
  {
   "cell_type": "code",
   "execution_count": 8,
   "metadata": {
    "collapsed": false
   },
   "outputs": [
    {
     "name": "stdout",
     "output_type": "stream",
     "text": [
      "ning Pyt\n",
      "ning Pyt\n",
      "nn y\n"
     ]
    }
   ],
   "source": [
    "# Slice a string\n",
    "substr1 = str3[4:12] # [start:stop]\n",
    "print substr1\n",
    "substr2 = str3[4:12:1] # [start:stop:step]\n",
    "print substr2\n",
    "substr3 = str3[4:12:2] # [start:stop:step]\n",
    "print substr3"
   ]
  },
  {
   "cell_type": "code",
   "execution_count": 9,
   "metadata": {
    "collapsed": false
   },
   "outputs": [
    {
     "name": "stdout",
     "output_type": "stream",
     "text": [
      "!nohtyP gninraeL\n"
     ]
    }
   ],
   "source": [
    "# Reverse a string\n",
    "revStr = str3[::-1]\n",
    "print revStr"
   ]
  },
  {
   "cell_type": "code",
   "execution_count": 10,
   "metadata": {
    "collapsed": false
   },
   "outputs": [
    {
     "name": "stdout",
     "output_type": "stream",
     "text": [
      "3\n",
      "4\n",
      "[4, 6, 14]\n"
     ]
    }
   ],
   "source": [
    "# indexing and  occurances\n",
    "count = str3.count(\"n\")\n",
    "print count\n",
    "index = str3.index(\"n\") # index of first occurance\n",
    "print index\n",
    "indices = [i for i, x in enumerate(str3) if x == \"n\"]\n",
    "print indices"
   ]
  },
  {
   "cell_type": "code",
   "execution_count": 11,
   "metadata": {
    "collapsed": false
   },
   "outputs": [
    {
     "name": "stdout",
     "output_type": "stream",
     "text": [
      "['Learning', 'Python!']\n"
     ]
    }
   ],
   "source": [
    "# Split\n",
    "all_str = str3.split(\" \")\n",
    "print all_str"
   ]
  },
  {
   "cell_type": "code",
   "execution_count": 12,
   "metadata": {
    "collapsed": false
   },
   "outputs": [
    {
     "name": "stdout",
     "output_type": "stream",
     "text": [
      "LearningLearningLearningLearningLearningLearningLearningLearningLearningLearning\n"
     ]
    }
   ],
   "source": [
    "# repeat a string\n",
    "str4 = str1 * 10\n",
    "print str4"
   ]
  },
  {
   "cell_type": "code",
   "execution_count": 13,
   "metadata": {
    "collapsed": false
   },
   "outputs": [
    {
     "name": "stdout",
     "output_type": "stream",
     "text": [
      "Does Learning Python! starts with Learn? True\n",
      "Does Learning Python! ends with C++? False\n"
     ]
    }
   ],
   "source": [
    "teststr1 = \"Learn\"\n",
    "teststr2 = \"C++\"\n",
    "ans1 = str3.startswith(teststr1)\n",
    "ans2 = str3.endswith(teststr2)\n",
    "print \"Does %s starts with %s? %s\" %(str3, teststr1, ans1)\n",
    "print \"Does %s ends with %s? %s\" %(str3, teststr2, ans2)"
   ]
  },
  {
   "cell_type": "markdown",
   "metadata": {},
   "source": [
    "## Lists"
   ]
  },
  {
   "cell_type": "code",
   "execution_count": 14,
   "metadata": {
    "collapsed": false
   },
   "outputs": [
    {
     "name": "stdout",
     "output_type": "stream",
     "text": [
      "[10, 20, 30]\n"
     ]
    }
   ],
   "source": [
    "list1 = [10,20,30]\n",
    "print list1"
   ]
  },
  {
   "cell_type": "code",
   "execution_count": 15,
   "metadata": {
    "collapsed": false
   },
   "outputs": [
    {
     "name": "stdout",
     "output_type": "stream",
     "text": [
      "list2: [100, 200, 300]\n",
      "First number in list2 is 100.\n",
      "Last number in list2 is 300.\n"
     ]
    }
   ],
   "source": [
    "list2 = []\n",
    "list2.append(100)\n",
    "list2.append(200)\n",
    "list2.append(300)\n",
    "print \"list2: %s\" %list2\n",
    "print \"First number in list2 is %d.\" %list2[0]\n",
    "print \"Last number in list2 is %d.\" %list2[len(list2)-1]"
   ]
  },
  {
   "cell_type": "code",
   "execution_count": 16,
   "metadata": {
    "collapsed": false
   },
   "outputs": [
    {
     "name": "stdout",
     "output_type": "stream",
     "text": [
      "100\n",
      "200\n",
      "300\n"
     ]
    }
   ],
   "source": [
    "for x in list2:\n",
    "    print(x)"
   ]
  },
  {
   "cell_type": "code",
   "execution_count": 17,
   "metadata": {
    "collapsed": false
   },
   "outputs": [
    {
     "name": "stdout",
     "output_type": "stream",
     "text": [
      "Repeated list is: [10, 20, 30, 10, 20, 30, 10, 20, 30]\n"
     ]
    }
   ],
   "source": [
    "list3 = list1 * 3\n",
    "print \"Repeated list is: %s\" %list3"
   ]
  },
  {
   "cell_type": "code",
   "execution_count": 18,
   "metadata": {
    "collapsed": false
   },
   "outputs": [
    {
     "name": "stdout",
     "output_type": "stream",
     "text": [
      "Length of list3 is 9.\n"
     ]
    }
   ],
   "source": [
    "l = len(list3)\n",
    "print \"Length of list3 is %d.\" %l"
   ]
  },
  {
   "cell_type": "code",
   "execution_count": 19,
   "metadata": {
    "collapsed": false
   },
   "outputs": [
    {
     "name": "stdout",
     "output_type": "stream",
     "text": [
      "10 ocuurs 3 times in list3.\n"
     ]
    }
   ],
   "source": [
    "c = list3.count(10)\n",
    "print \"10 ocuurs %d times in list3.\" %c"
   ]
  },
  {
   "cell_type": "code",
   "execution_count": 20,
   "metadata": {
    "collapsed": false
   },
   "outputs": [
    {
     "name": "stdout",
     "output_type": "stream",
     "text": [
      "[30, 60, 90]\n"
     ]
    }
   ],
   "source": [
    "# Multiply each element of a list my a number\n",
    "list4 = [x*3 for x in list1]\n",
    "print list4"
   ]
  },
  {
   "cell_type": "code",
   "execution_count": 21,
   "metadata": {
    "collapsed": false
   },
   "outputs": [
    {
     "name": "stdout",
     "output_type": "stream",
     "text": [
      "Concatanated list is: [10, 20, 30, 100, 200, 300]\n"
     ]
    }
   ],
   "source": [
    "list5 = list1 + list2\n",
    "print \"Concatanated list is: %s\" %list5"
   ]
  },
  {
   "cell_type": "code",
   "execution_count": 22,
   "metadata": {
    "collapsed": false
   },
   "outputs": [
    {
     "name": "stdout",
     "output_type": "stream",
     "text": [
      "[110, 220, 330]\n"
     ]
    }
   ],
   "source": [
    "# element-wise addition without using numpy\n",
    "list6 = [x+y for x,y in zip(list1,list2)]\n",
    "print list6"
   ]
  },
  {
   "cell_type": "code",
   "execution_count": 23,
   "metadata": {
    "collapsed": false
   },
   "outputs": [
    {
     "name": "stdout",
     "output_type": "stream",
     "text": [
      "[0, 1, 2, 3, 4, 5, 6, 7, 8, 9]\n",
      "[3, 4, 5]\n",
      "[0, 2, 4, 6, 8]\n",
      "[9, 7, 5, 3, 1]\n"
     ]
    }
   ],
   "source": [
    "# slicing a list\n",
    "list7 = [x for x in range(10)]\n",
    "print list7\n",
    "list8 = list7[3:6] #[start:stop]\n",
    "print list8\n",
    "list9 = list7[0:9:2] #[start:stop:step]\n",
    "print list9\n",
    "list10 = list7[9:0:-2] #[start:stop:step]\n",
    "print list10"
   ]
  },
  {
   "cell_type": "code",
   "execution_count": 24,
   "metadata": {
    "collapsed": false
   },
   "outputs": [
    {
     "name": "stdout",
     "output_type": "stream",
     "text": [
      "[0, 1, 2, 3, 4, 5, 6, 7, 8, 9]\n",
      "[0, 1, 2, 3, 4, 6, 7, 8, 9]\n"
     ]
    }
   ],
   "source": [
    "# delete an element in a list\n",
    "print list7\n",
    "del list7[5]\n",
    "print list7"
   ]
  },
  {
   "cell_type": "markdown",
   "metadata": {},
   "source": [
    "## Control Flow"
   ]
  },
  {
   "cell_type": "code",
   "execution_count": 25,
   "metadata": {
    "collapsed": false
   },
   "outputs": [
    {
     "name": "stdout",
     "output_type": "stream",
     "text": [
      "[1, 1, 2, 3, 5, 8, 13]\n"
     ]
    }
   ],
   "source": [
    "# while statement\n",
    "# print fibonacci series\n",
    "a, b = 0, 1\n",
    "c = []\n",
    "while b < 20:\n",
    "    c.append(b)\n",
    "    a, b = b, a+b\n",
    "print c"
   ]
  },
  {
   "cell_type": "code",
   "execution_count": 26,
   "metadata": {
    "collapsed": false
   },
   "outputs": [
    {
     "name": "stdout",
     "output_type": "stream",
     "text": [
      "Enter an integer: 10\n",
      "10 is not divisible by 3\n"
     ]
    }
   ],
   "source": [
    "# conditionals\n",
    "x = int(raw_input(\"Enter an integer: \"))\n",
    "if (x%3==0):\n",
    "    print \"%d is divisible by 3\"\n",
    "else:\n",
    "    print \"%d is not divisible by 3\" %x"
   ]
  },
  {
   "cell_type": "code",
   "execution_count": 27,
   "metadata": {
    "collapsed": false
   },
   "outputs": [
    {
     "name": "stdout",
     "output_type": "stream",
     "text": [
      "Numbers divisible by 3 are: [0, 30, 60, 90]\n"
     ]
    }
   ],
   "source": [
    "# for statement\n",
    "result = []\n",
    "for x in range(0,100,10):\n",
    "    if (x%3==0):\n",
    "        result.append(x)\n",
    "print \"Numbers divisible by 3 are: %s\" %result"
   ]
  },
  {
   "cell_type": "markdown",
   "metadata": {},
   "source": [
    "## Dictionaries"
   ]
  },
  {
   "cell_type": "code",
   "execution_count": 28,
   "metadata": {
    "collapsed": false
   },
   "outputs": [
    {
     "name": "stdout",
     "output_type": "stream",
     "text": [
      "{'John': 973564, 'Sherlock': 976827, 'Mycroft': 972635}\n",
      "976827\n"
     ]
    }
   ],
   "source": [
    "phonebook = {'Sherlock': 976827, 'John': 973564}\n",
    "phonebook['Mycroft'] = 972635\n",
    "print phonebook\n",
    "print phonebook['Sherlock']"
   ]
  },
  {
   "cell_type": "code",
   "execution_count": 29,
   "metadata": {
    "collapsed": false
   },
   "outputs": [
    {
     "name": "stdout",
     "output_type": "stream",
     "text": [
      "Keys: ['John', 'Sherlock', 'Mycroft']\n",
      "Values: [973564, 976827, 972635]\n"
     ]
    }
   ],
   "source": [
    "print \"Keys: %s\" %phonebook.keys()\n",
    "print \"Values: %s\" %phonebook.values()"
   ]
  },
  {
   "cell_type": "code",
   "execution_count": 30,
   "metadata": {
    "collapsed": false
   },
   "outputs": [
    {
     "name": "stdout",
     "output_type": "stream",
     "text": [
      "John -> 973564 \n",
      "Sherlock -> 976827 \n",
      "Mycroft -> 972635 \n"
     ]
    }
   ],
   "source": [
    "for k,v in phonebook.items():\n",
    "    print \"%s -> %d \" %(k,v)"
   ]
  },
  {
   "cell_type": "markdown",
   "metadata": {},
   "source": [
    "## Sets"
   ]
  },
  {
   "cell_type": "code",
   "execution_count": 31,
   "metadata": {
    "collapsed": false
   },
   "outputs": [
    {
     "name": "stdout",
     "output_type": "stream",
     "text": [
      "set(['a', 'c', 'b', 'e', 'd', 'g', 'f', 'i', 'h', 'k', 'j'])\n",
      "set(['a', 'i', 'e', 'u', 'o'])\n",
      "set(['c', 'b', 'd', 'g', 'f', 'h', 'k', 'j'])\n",
      "set(['u', 'o'])\n",
      "set(['a', 'i', 'e'])\n",
      "set(['a', 'c', 'b', 'e', 'd', 'g', 'f', 'i', 'h', 'k', 'j', 'o', 'u'])\n"
     ]
    }
   ],
   "source": [
    "alphabets = set('abcdefghijk')\n",
    "vowels = set('aeiou')\n",
    "print alphabets\n",
    "print vowels\n",
    "print alphabets - vowels\n",
    "print vowels - alphabets\n",
    "print alphabets & vowels\n",
    "print alphabets | vowels"
   ]
  },
  {
   "cell_type": "code",
   "execution_count": 32,
   "metadata": {
    "collapsed": false
   },
   "outputs": [
    {
     "name": "stdout",
     "output_type": "stream",
     "text": [
      "set(['u', 'o'])\n"
     ]
    }
   ],
   "source": [
    "new_set = {x for x in vowels if x not in alphabets}\n",
    "print new_set"
   ]
  },
  {
   "cell_type": "code",
   "execution_count": 33,
   "metadata": {
    "collapsed": false
   },
   "outputs": [
    {
     "name": "stdout",
     "output_type": "stream",
     "text": [
      "#1: a\n",
      "#2: i\n",
      "#3: e\n",
      "#4: u\n",
      "#5: o\n"
     ]
    }
   ],
   "source": [
    "for idx, v in enumerate(vowels):\n",
    "    print '#%d: %s' % (idx + 1, v)"
   ]
  },
  {
   "cell_type": "markdown",
   "metadata": {},
   "source": [
    "## Tuples"
   ]
  },
  {
   "cell_type": "code",
   "execution_count": 34,
   "metadata": {
    "collapsed": false
   },
   "outputs": [
    {
     "name": "stdout",
     "output_type": "stream",
     "text": [
      "(10, 20, 'a', 'abc')\n"
     ]
    }
   ],
   "source": [
    "t1 = 10, 20, 'a','abc'\n",
    "print t1"
   ]
  },
  {
   "cell_type": "code",
   "execution_count": 35,
   "metadata": {
    "collapsed": false
   },
   "outputs": [
    {
     "name": "stdout",
     "output_type": "stream",
     "text": [
      "10 20 a abc\n"
     ]
    }
   ],
   "source": [
    "v, x, y, z = t1\n",
    "print v, x, y, z "
   ]
  },
  {
   "cell_type": "markdown",
   "metadata": {
    "collapsed": true
   },
   "source": [
    "## List files in a directory"
   ]
  },
  {
   "cell_type": "code",
   "execution_count": 36,
   "metadata": {
    "collapsed": false
   },
   "outputs": [
    {
     "data": {
      "text/plain": [
       "['butterfly.png',\n",
       " 'conservatory.png',\n",
       " 'flowers.png',\n",
       " 'lenna.png',\n",
       " 'painting.png']"
      ]
     },
     "execution_count": 36,
     "metadata": {},
     "output_type": "execute_result"
    }
   ],
   "source": [
    "# list all files in a directory\n",
    "filenames = !ls data\n",
    "filenames"
   ]
  },
  {
   "cell_type": "code",
   "execution_count": 37,
   "metadata": {
    "collapsed": false
   },
   "outputs": [
    {
     "data": {
      "text/plain": [
       "['data/butterfly.png',\n",
       " 'data/conservatory.png',\n",
       " 'data/flowers.png',\n",
       " 'data/lenna.png',\n",
       " 'data/painting.png']"
      ]
     },
     "execution_count": 37,
     "metadata": {},
     "output_type": "execute_result"
    }
   ],
   "source": [
    "# list files with a specific file extension\n",
    "filenames = !ls data/*.png\n",
    "filenames"
   ]
  },
  {
   "cell_type": "markdown",
   "metadata": {},
   "source": [
    "## Random Numbers"
   ]
  },
  {
   "cell_type": "code",
   "execution_count": 38,
   "metadata": {
    "collapsed": false
   },
   "outputs": [
    {
     "name": "stdout",
     "output_type": "stream",
     "text": [
      "31\n",
      "49\n"
     ]
    }
   ],
   "source": [
    "import random\n",
    "# generate a random number in a given range\n",
    "rnd1 = random.randint(1, 100) #random integer between (start,stop)\n",
    "print rnd1\n",
    "rnd2 = random.randrange(1, 100, 3) # random integer between (start,stop) in steps of (step)\n",
    "print rnd2"
   ]
  },
  {
   "cell_type": "code",
   "execution_count": 39,
   "metadata": {
    "collapsed": false
   },
   "outputs": [
    {
     "name": "stdout",
     "output_type": "stream",
     "text": [
      "[0, 10, 20, 30, 40, 50, 60, 70, 80, 90]\n",
      "40\n"
     ]
    }
   ],
   "source": [
    "# select a random number from a given list\n",
    "listA  = [x for x in range(0,100,10)]\n",
    "rnd3 = random.choice(listA)\n",
    "print listA\n",
    "print rnd3"
   ]
  },
  {
   "cell_type": "code",
   "execution_count": 40,
   "metadata": {
    "collapsed": false
   },
   "outputs": [
    {
     "name": "stdout",
     "output_type": "stream",
     "text": [
      "[90, 40, 0]\n"
     ]
    }
   ],
   "source": [
    "# sample a few numbers randomly from a given list\n",
    "listB = random.sample(listA,  3)\n",
    "print listB"
   ]
  },
  {
   "cell_type": "code",
   "execution_count": 41,
   "metadata": {
    "collapsed": false
   },
   "outputs": [
    {
     "name": "stdout",
     "output_type": "stream",
     "text": [
      "[60, 80, 70, 30, 10, 0, 50, 40, 20, 90]\n"
     ]
    }
   ],
   "source": [
    "# shuffle all the numbers in a given list\n",
    "random.shuffle(listA)\n",
    "print listA"
   ]
  },
  {
   "cell_type": "code",
   "execution_count": 42,
   "metadata": {
    "collapsed": false
   },
   "outputs": [
    {
     "name": "stdout",
     "output_type": "stream",
     "text": [
      "20\n"
     ]
    }
   ],
   "source": [
    "# generate same random numbers at each run\n",
    "random.seed(2017)\n",
    "rndA = random.randint(1, 100)\n",
    "print rndA"
   ]
  },
  {
   "cell_type": "markdown",
   "metadata": {},
   "source": [
    "## Functions"
   ]
  },
  {
   "cell_type": "code",
   "execution_count": 43,
   "metadata": {
    "collapsed": false
   },
   "outputs": [
    {
     "name": "stdout",
     "output_type": "stream",
     "text": [
      "1 false\n",
      "2 true\n",
      "3 false\n",
      "4 true\n",
      "5 false\n",
      "6 true\n",
      "7 false\n",
      "8 true\n",
      "9 false\n",
      "10 true\n"
     ]
    }
   ],
   "source": [
    "def iseven(x):\n",
    "    if (x%2 == 0):\n",
    "        return 'true'\n",
    "    else:\n",
    "        return 'false'\n",
    "\n",
    "for x in range(1,11):\n",
    "    print x,iseven(x)"
   ]
  },
  {
   "cell_type": "code",
   "execution_count": 44,
   "metadata": {
    "collapsed": false
   },
   "outputs": [
    {
     "name": "stdout",
     "output_type": "stream",
     "text": [
      "HelloWorld\n",
      "Hello World\n"
     ]
    }
   ],
   "source": [
    "# optional argument\n",
    "def join_strings(x,y, space=False):\n",
    "    if (space):\n",
    "        str = x + \" \" + y\n",
    "    else:\n",
    "        str = x + y\n",
    "    return(str)\n",
    "\n",
    "str1 = join_strings('Hello','World') \n",
    "print str1\n",
    "str2 = join_strings('Hello','World', space=True)  \n",
    "print str2"
   ]
  }
 ],
 "metadata": {
  "kernelspec": {
   "display_name": "Python 2",
   "language": "python",
   "name": "python2"
  },
  "language_info": {
   "codemirror_mode": {
    "name": "ipython",
    "version": 2
   },
   "file_extension": ".py",
   "mimetype": "text/x-python",
   "name": "python",
   "nbconvert_exporter": "python",
   "pygments_lexer": "ipython2",
   "version": "2.7.13"
  }
 },
 "nbformat": 4,
 "nbformat_minor": 0
}
