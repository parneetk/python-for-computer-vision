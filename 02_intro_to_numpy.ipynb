{
 "cells": [
  {
   "cell_type": "markdown",
   "metadata": {
    "collapsed": true
   },
   "source": [
    "# Intro to NumPy\n",
    "NumPy is a package for scientific computing in Python which provides basic functionalities to manuplate arrays and matrices."
   ]
  },
  {
   "cell_type": "markdown",
   "metadata": {},
   "source": [
    "## Import Modules"
   ]
  },
  {
   "cell_type": "code",
   "execution_count": 1,
   "metadata": {
    "collapsed": true
   },
   "outputs": [],
   "source": [
    "import numpy as np"
   ]
  },
  {
   "cell_type": "markdown",
   "metadata": {},
   "source": [
    "## Arrays"
   ]
  },
  {
   "cell_type": "code",
   "execution_count": 2,
   "metadata": {
    "collapsed": false
   },
   "outputs": [
    {
     "name": "stdout",
     "output_type": "stream",
     "text": [
      "Array: [10 20 30 40]\n",
      "Datatype: <type 'numpy.ndarray'>\n"
     ]
    }
   ],
   "source": [
    "arr1 = np.array([10, 20, 30, 40])\n",
    "print \"Array: %s\" %arr1\n",
    "print \"Datatype: %s\" %type(arr1)"
   ]
  },
  {
   "cell_type": "code",
   "execution_count": 3,
   "metadata": {
    "collapsed": false,
    "scrolled": true
   },
   "outputs": [
    {
     "name": "stdout",
     "output_type": "stream",
     "text": [
      "List: [10, 20, 30, 40]\n",
      "Datatype: <type 'list'>\n"
     ]
    }
   ],
   "source": [
    "# comparison to lists in Python\n",
    "list1 = [10, 20, 30, 40]\n",
    "print \"List: %s\" %list1\n",
    "print \"Datatype: %s\" %type(list1)"
   ]
  },
  {
   "cell_type": "code",
   "execution_count": 4,
   "metadata": {
    "collapsed": false
   },
   "outputs": [
    {
     "name": "stdout",
     "output_type": "stream",
     "text": [
      "First element of arr1: 10\n",
      "Size of arr1: 4\n",
      "[10 20]\n"
     ]
    }
   ],
   "source": [
    "# Accessing Array Elements\n",
    "print \"First element of arr1: %d\" %arr1[0]\n",
    "print \"Size of arr1: %s\" %arr1.shape\n",
    "print arr1[:2]"
   ]
  },
  {
   "cell_type": "code",
   "execution_count": 5,
   "metadata": {
    "collapsed": false
   },
   "outputs": [
    {
     "name": "stdout",
     "output_type": "stream",
     "text": [
      "[0 1 2 3 4 5 6 7 8 9]\n"
     ]
    }
   ],
   "source": [
    "arr = np.arange(10)\n",
    "print arr"
   ]
  },
  {
   "cell_type": "markdown",
   "metadata": {},
   "source": [
    "## Multidimensional Array"
   ]
  },
  {
   "cell_type": "code",
   "execution_count": 6,
   "metadata": {
    "collapsed": false
   },
   "outputs": [
    {
     "name": "stdout",
     "output_type": "stream",
     "text": [
      "[[1 2 3]\n",
      " [4 5 6]]\n"
     ]
    }
   ],
   "source": [
    "arr = np.array([[1, 2, 3], [4, 5, 6]], int)\n",
    "print arr"
   ]
  },
  {
   "cell_type": "code",
   "execution_count": 7,
   "metadata": {
    "collapsed": false
   },
   "outputs": [
    {
     "name": "stdout",
     "output_type": "stream",
     "text": [
      "[[ 3 18 17]\n",
      " [18  4 20]\n",
      " [ 2 20 16]]\n",
      "First element of arr: 3\n",
      "Size of arr: (3, 3)\n"
     ]
    }
   ],
   "source": [
    "arr = np.random.random_integers(20, size = (3,3))\n",
    "print arr\n",
    "print \"First element of arr: %d\" %arr[0,0]\n",
    "print \"Size of arr: %s\" %(arr.shape,)"
   ]
  },
  {
   "cell_type": "code",
   "execution_count": 8,
   "metadata": {
    "collapsed": false
   },
   "outputs": [
    {
     "name": "stdout",
     "output_type": "stream",
     "text": [
      "[[ 0.  0.  0.]\n",
      " [ 0.  0.  0.]\n",
      " [ 0.  0.  0.]]\n"
     ]
    }
   ],
   "source": [
    "arr_zeros = np.zeros((3,3))  \n",
    "print arr_zeros"
   ]
  },
  {
   "cell_type": "code",
   "execution_count": 9,
   "metadata": {
    "collapsed": false
   },
   "outputs": [
    {
     "name": "stdout",
     "output_type": "stream",
     "text": [
      "[[ 1.  1.  1.]\n",
      " [ 1.  1.  1.]\n",
      " [ 1.  1.  1.]]\n"
     ]
    }
   ],
   "source": [
    "arr_ones = np.ones((3,3))  \n",
    "print arr_ones"
   ]
  },
  {
   "cell_type": "code",
   "execution_count": 10,
   "metadata": {
    "collapsed": false
   },
   "outputs": [
    {
     "name": "stdout",
     "output_type": "stream",
     "text": [
      "[[1 0 0]\n",
      " [0 1 0]\n",
      " [0 0 1]]\n"
     ]
    }
   ],
   "source": [
    "arr_identity = np.eye(3, dtype = int)  \n",
    "print arr_identity"
   ]
  },
  {
   "cell_type": "markdown",
   "metadata": {},
   "source": [
    "## Array Indexing"
   ]
  },
  {
   "cell_type": "code",
   "execution_count": 11,
   "metadata": {
    "collapsed": false
   },
   "outputs": [
    {
     "data": {
      "text/plain": [
       "6"
      ]
     },
     "execution_count": 11,
     "metadata": {},
     "output_type": "execute_result"
    }
   ],
   "source": [
    "arr = np.random.random_integers(20, size = (3,3))\n",
    "arr\n",
    "arr[0,0]"
   ]
  },
  {
   "cell_type": "code",
   "execution_count": 12,
   "metadata": {
    "collapsed": false
   },
   "outputs": [
    {
     "data": {
      "text/plain": [
       "14"
      ]
     },
     "execution_count": 12,
     "metadata": {},
     "output_type": "execute_result"
    }
   ],
   "source": [
    "arr[1,2]"
   ]
  },
  {
   "cell_type": "code",
   "execution_count": 13,
   "metadata": {
    "collapsed": false
   },
   "outputs": [
    {
     "name": "stdout",
     "output_type": "stream",
     "text": [
      "6 14\n"
     ]
    }
   ],
   "source": [
    "print arr[0,0],arr[1,2]"
   ]
  },
  {
   "cell_type": "code",
   "execution_count": 14,
   "metadata": {
    "collapsed": false
   },
   "outputs": [
    {
     "name": "stdout",
     "output_type": "stream",
     "text": [
      "[6, 14]\n"
     ]
    }
   ],
   "source": [
    "print [arr[0,0],arr[1,2]] # outputs a list"
   ]
  },
  {
   "cell_type": "code",
   "execution_count": 15,
   "metadata": {
    "collapsed": false
   },
   "outputs": [
    {
     "name": "stdout",
     "output_type": "stream",
     "text": [
      "[ 6 14]\n"
     ]
    }
   ],
   "source": [
    "print arr[[0,1],[0,2]] # same output as previous command"
   ]
  },
  {
   "cell_type": "code",
   "execution_count": 16,
   "metadata": {
    "collapsed": false
   },
   "outputs": [
    {
     "name": "stdout",
     "output_type": "stream",
     "text": [
      "[ 6 11  2]\n"
     ]
    }
   ],
   "source": [
    "print np.diag(arr)"
   ]
  },
  {
   "cell_type": "code",
   "execution_count": 17,
   "metadata": {
    "collapsed": false
   },
   "outputs": [
    {
     "name": "stdout",
     "output_type": "stream",
     "text": [
      "[[ 6  6 12]\n",
      " [13 11 14]\n",
      " [17  4  2]]\n",
      "[[False False  True]\n",
      " [ True  True  True]\n",
      " [ True False False]]\n",
      "[12 13 11 14 17]\n",
      "[12 13 11 14 17]\n"
     ]
    }
   ],
   "source": [
    "# Boolean array indexing\n",
    "b = (arr>10)\n",
    "print arr\n",
    "print b\n",
    "print arr[b]\n",
    "print arr[arr>10]"
   ]
  },
  {
   "cell_type": "markdown",
   "metadata": {},
   "source": [
    "## Array Slicing"
   ]
  },
  {
   "cell_type": "code",
   "execution_count": 18,
   "metadata": {
    "collapsed": false
   },
   "outputs": [
    {
     "name": "stdout",
     "output_type": "stream",
     "text": [
      "[ 4 16  8] (3,)\n",
      "[[ 4 16  8]] (1, 3)\n"
     ]
    }
   ],
   "source": [
    "# rank 1 and rank 2 views of middle row\n",
    "arr = np.random.random_integers(20, size = (3,3))\n",
    "row1 = arr[1, :]    \n",
    "row2 = arr[1:2, :] \n",
    "print row1, row1.shape  \n",
    "print row2, row2.shape"
   ]
  },
  {
   "cell_type": "code",
   "execution_count": 19,
   "metadata": {
    "collapsed": false
   },
   "outputs": [
    {
     "name": "stdout",
     "output_type": "stream",
     "text": [
      "[[12  1 10]\n",
      " [ 4 16  8]\n",
      " [20  5 20]]\n",
      "[[ 1 10]\n",
      " [16  8]]\n",
      "[[ 0 10]\n",
      " [16  8]]\n",
      "[[12  0 10]\n",
      " [ 4 16  8]\n",
      " [20  5 20]]\n"
     ]
    }
   ],
   "source": [
    "arr_slice = arr[0:2,1:3] # assigned by reference\n",
    "print arr\n",
    "print arr_slice\n",
    "arr_slice[0,0] = 0 # modifying arr_slice will modify arr\n",
    "print arr_slice\n",
    "print arr"
   ]
  },
  {
   "cell_type": "code",
   "execution_count": 20,
   "metadata": {
    "collapsed": false
   },
   "outputs": [
    {
     "name": "stdout",
     "output_type": "stream",
     "text": [
      "[[ 6 10  4]\n",
      " [ 9 10  1]\n",
      " [15  2  3]]\n",
      "[[ 0 10  4]\n",
      " [ 9 10  1]\n",
      " [15  2  3]]\n",
      "[[ 6 10  4]\n",
      " [ 9 10  1]\n",
      " [15  2  3]]\n"
     ]
    }
   ],
   "source": [
    "# copy array to a new variable\n",
    "arr = np.random.random_integers(20, size = (3,3))\n",
    "print arr\n",
    "arr_new = arr.copy() # new memory is allocated\n",
    "arr_new[0,0] = 0 # modifying arr_new will not modify arr\n",
    "print arr_new\n",
    "print arr"
   ]
  },
  {
   "cell_type": "markdown",
   "metadata": {},
   "source": [
    "## Basic Mathematics"
   ]
  },
  {
   "cell_type": "code",
   "execution_count": 21,
   "metadata": {
    "collapsed": false
   },
   "outputs": [
    {
     "name": "stdout",
     "output_type": "stream",
     "text": [
      "[[1 2 3]\n",
      " [3 4 6]]\n",
      "[[6 7 8]\n",
      " [4 5 3]]\n"
     ]
    }
   ],
   "source": [
    "a = np.array([[1, 2, 3],[3, 4, 6]])\n",
    "print a\n",
    "b = np.array([[6, 7, 8],[4, 5, 3]])\n",
    "print b"
   ]
  },
  {
   "cell_type": "code",
   "execution_count": 22,
   "metadata": {
    "collapsed": false
   },
   "outputs": [
    {
     "name": "stdout",
     "output_type": "stream",
     "text": [
      "[[ 6 14 24]\n",
      " [12 20 18]]\n",
      "[[ 6 14 24]\n",
      " [12 20 18]]\n"
     ]
    }
   ],
   "source": [
    "# element-wise multiplication \n",
    "print a*b\n",
    "print np.multiply(a,b)"
   ]
  },
  {
   "cell_type": "code",
   "execution_count": 23,
   "metadata": {
    "collapsed": false
   },
   "outputs": [
    {
     "name": "stdout",
     "output_type": "stream",
     "text": [
      "[[0 0 0]\n",
      " [0 0 2]]\n",
      "[[0 0 0]\n",
      " [0 0 2]]\n"
     ]
    }
   ],
   "source": [
    "# element-wise division\n",
    "print a/b\n",
    "print np.divide(a,b)"
   ]
  },
  {
   "cell_type": "code",
   "execution_count": 24,
   "metadata": {
    "collapsed": false
   },
   "outputs": [
    {
     "name": "stdout",
     "output_type": "stream",
     "text": [
      "[[ 1  4  9]\n",
      " [ 9 16 36]]\n"
     ]
    }
   ],
   "source": [
    "# element-wise power operation\n",
    "print np.power(a,2)"
   ]
  },
  {
   "cell_type": "code",
   "execution_count": 25,
   "metadata": {
    "collapsed": false
   },
   "outputs": [
    {
     "name": "stdout",
     "output_type": "stream",
     "text": [
      "[[1 3]\n",
      " [2 4]\n",
      " [3 6]]\n",
      "[[1 3]\n",
      " [2 4]\n",
      " [3 6]]\n"
     ]
    }
   ],
   "source": [
    "# transpose\n",
    "print a.transpose()\n",
    "print a.T"
   ]
  },
  {
   "cell_type": "code",
   "execution_count": 26,
   "metadata": {
    "collapsed": false
   },
   "outputs": [
    {
     "name": "stdout",
     "output_type": "stream",
     "text": [
      "[[44 23]\n",
      " [94 50]]\n"
     ]
    }
   ],
   "source": [
    "# matrix multiplication\n",
    "print np.dot(a, b.transpose())"
   ]
  },
  {
   "cell_type": "code",
   "execution_count": 27,
   "metadata": {
    "collapsed": false
   },
   "outputs": [
    {
     "name": "stdout",
     "output_type": "stream",
     "text": [
      "[[1 2 3 6 7 8]\n",
      " [3 4 6 4 5 3]]\n",
      "[[1 2 3 6 7 8]\n",
      " [3 4 6 4 5 3]]\n",
      "[[1 2 3 6 7 8]\n",
      " [3 4 6 4 5 3]]\n"
     ]
    }
   ],
   "source": [
    "# concatanate columns of a and b \n",
    "print np.concatenate((a,b),1)\n",
    "print np.hstack((a,b)) \n",
    "print np.c_[a,b]"
   ]
  },
  {
   "cell_type": "code",
   "execution_count": 28,
   "metadata": {
    "collapsed": false
   },
   "outputs": [
    {
     "name": "stdout",
     "output_type": "stream",
     "text": [
      "[[1 2 3]\n",
      " [3 4 6]\n",
      " [6 7 8]\n",
      " [4 5 3]]\n",
      "[[1 2 3]\n",
      " [3 4 6]\n",
      " [6 7 8]\n",
      " [4 5 3]]\n",
      "[[1 2 3]\n",
      " [3 4 6]\n",
      " [6 7 8]\n",
      " [4 5 3]]\n"
     ]
    }
   ],
   "source": [
    "# concatanate rows of a and b \n",
    "print np.concatenate((a,b))\n",
    "print np.vstack((a,b)) \n",
    "print np.r_[a,b]"
   ]
  },
  {
   "cell_type": "code",
   "execution_count": 29,
   "metadata": {
    "collapsed": false
   },
   "outputs": [
    {
     "name": "stdout",
     "output_type": "stream",
     "text": [
      "[[1 2 3]\n",
      " [3 4 6]]\n",
      "6\n",
      "[3 4 6]\n",
      "[3 6]\n"
     ]
    }
   ],
   "source": [
    "# find maximum elements\n",
    "print a\n",
    "print np.max(a) # maximum element in a\n",
    "print np.max(a,0) # maximum element in each column\n",
    "print np.max(a,1) # maximum element in each row"
   ]
  },
  {
   "cell_type": "code",
   "execution_count": 30,
   "metadata": {
    "collapsed": false
   },
   "outputs": [
    {
     "name": "stdout",
     "output_type": "stream",
     "text": [
      "[[1 2 3]\n",
      " [3 4 6]]\n",
      "19\n",
      "[4 6 9]\n",
      "[ 6 13]\n"
     ]
    }
   ],
   "source": [
    "# sum  \n",
    "print a\n",
    "print np.sum(a) # sum of all elements in a\n",
    "print np.sum(a,0) # sum of elements in each column\n",
    "print np.sum(a,1) # sum of elements in each row"
   ]
  },
  {
   "cell_type": "code",
   "execution_count": 31,
   "metadata": {
    "collapsed": false
   },
   "outputs": [
    {
     "name": "stdout",
     "output_type": "stream",
     "text": [
      "[[1 2 3]\n",
      " [3 4 6]\n",
      " [1 2 3]\n",
      " [3 4 6]\n",
      " [1 2 3]\n",
      " [3 4 6]]\n",
      "[[1 2 3 1 2 3 1 2 3]\n",
      " [3 4 6 3 4 6 3 4 6]]\n",
      "[[1 2 3 1 2 3 1 2 3]\n",
      " [3 4 6 3 4 6 3 4 6]\n",
      " [1 2 3 1 2 3 1 2 3]\n",
      " [3 4 6 3 4 6 3 4 6]]\n"
     ]
    }
   ],
   "source": [
    "# repeat an array several times\n",
    "print np.tile(a,(3,1))\n",
    "print np.tile(a,(1,3))\n",
    "print np.tile(a,(2,3))"
   ]
  },
  {
   "cell_type": "code",
   "execution_count": 32,
   "metadata": {
    "collapsed": false
   },
   "outputs": [
    {
     "name": "stdout",
     "output_type": "stream",
     "text": [
      "[[1 2 3]\n",
      " [3 4 6]]\n",
      "(2, 3)\n",
      "[[1 2 3 3 4 6]]\n",
      "(1, 6)\n"
     ]
    }
   ],
   "source": [
    "# reshape\n",
    "print a\n",
    "print a.shape\n",
    "a1 = np.reshape(a,[1,6])\n",
    "print a1\n",
    "print a1.shape"
   ]
  },
  {
   "cell_type": "code",
   "execution_count": 33,
   "metadata": {
    "collapsed": false
   },
   "outputs": [
    {
     "name": "stdout",
     "output_type": "stream",
     "text": [
      "[[ 2  2 -1]\n",
      " [ 4  0  2]\n",
      " [ 0  6 -3]]\n",
      "[[ 0.5         0.         -0.16666667]\n",
      " [-0.5         0.25        0.33333333]\n",
      " [-1.          0.5         0.33333333]]\n"
     ]
    }
   ],
   "source": [
    "# inverse\n",
    "c = np.array([[2,2,-1],[4,0,2],[0,6,-3]])\n",
    "print c\n",
    "print np.linalg.inv(c)"
   ]
  },
  {
   "cell_type": "code",
   "execution_count": 34,
   "metadata": {
    "collapsed": false
   },
   "outputs": [
    {
     "name": "stdout",
     "output_type": "stream",
     "text": [
      "2\n"
     ]
    }
   ],
   "source": [
    "# rank\n",
    "print np.rank(c)"
   ]
  },
  {
   "cell_type": "code",
   "execution_count": 35,
   "metadata": {
    "collapsed": false
   },
   "outputs": [
    {
     "name": "stdout",
     "output_type": "stream",
     "text": [
      "[ 7.13218561  4.75726728  0.70734462]\n"
     ]
    }
   ],
   "source": [
    "# svd\n",
    "U, S, Vh = np.linalg.svd(c)\n",
    "print S"
   ]
  }
 ],
 "metadata": {
  "kernelspec": {
   "display_name": "Python 2",
   "language": "python",
   "name": "python2"
  },
  "language_info": {
   "codemirror_mode": {
    "name": "ipython",
    "version": 2
   },
   "file_extension": ".py",
   "mimetype": "text/x-python",
   "name": "python",
   "nbconvert_exporter": "python",
   "pygments_lexer": "ipython2",
   "version": "2.7.13"
  }
 },
 "nbformat": 4,
 "nbformat_minor": 0
}
